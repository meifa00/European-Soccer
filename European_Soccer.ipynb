{
  "nbformat": 4,
  "nbformat_minor": 0,
  "metadata": {
    "colab": {
      "provenance": [],
      "authorship_tag": "ABX9TyPMiBPEG389L1zr8adNSya8",
      "include_colab_link": true
    },
    "kernelspec": {
      "name": "python3",
      "display_name": "Python 3"
    },
    "language_info": {
      "name": "python"
    }
  },
  "cells": [
    {
      "cell_type": "markdown",
      "metadata": {
        "id": "view-in-github",
        "colab_type": "text"
      },
      "source": [
        "<a href=\"https://colab.research.google.com/github/meifa00/European-Soccer/blob/main/European_Soccer.ipynb\" target=\"_parent\"><img src=\"https://colab.research.google.com/assets/colab-badge.svg\" alt=\"Open In Colab\"/></a>"
      ]
    },
    {
      "cell_type": "markdown",
      "source": [
        "1) Introduction (5 min): Problem statements and objectives.\n",
        "\n",
        "2) Literature review (10 min)· Overview of at least 5 proposed unsupervised techniques for your project.\n",
        "At least 2 applications for each technique related to your problem domain.\n",
        "\n",
        "3) Data preprocessing (5 min)\n",
        "\n",
        "4) Exploratory data analysis/data visualization (10 min)"
      ],
      "metadata": {
        "id": "r54BgVqUgYHm"
      }
    },
    {
      "cell_type": "markdown",
      "source": [
        "# **Introduction**"
      ],
      "metadata": {
        "id": "MERCiENchHx-"
      }
    },
    {
      "cell_type": "markdown",
      "source": [
        "# **Literature Review**"
      ],
      "metadata": {
        "id": "GtGyHAbphNnW"
      }
    },
    {
      "cell_type": "markdown",
      "source": [
        "# **Data Preprocessing**"
      ],
      "metadata": {
        "id": "m3aovPO6hP1H"
      }
    },
    {
      "cell_type": "code",
      "source": [
        "# importing the necessary libraries\n",
        "# data processing, CSV file I/O (e.g. pd.read_csv)\n",
        "import pandas as pd\n",
        "import sqlite3"
      ],
      "metadata": {
        "id": "bl5mb5GmjYhH"
      },
      "execution_count": 51,
      "outputs": []
    },
    {
      "cell_type": "code",
      "source": [
        "# connecting the database\n",
        "conn = sqlite3.connect('database.sqlite')\n",
        "c = conn.cursor()"
      ],
      "metadata": {
        "id": "GA3K2aWcjgC1"
      },
      "execution_count": 53,
      "outputs": []
    },
    {
      "cell_type": "code",
      "source": [
        "# printing all the tables present in database.sqlite\n",
        "for row in c.execute(\"SELECT name FROM sqlite_master WHERE type='table';\"):\n",
        "    print(list(row))"
      ],
      "metadata": {
        "colab": {
          "base_uri": "https://localhost:8080/",
          "height": 176
        },
        "id": "p3pwBSjGjiSY",
        "outputId": "4138db15-cc4c-413e-da98-05b07a6856f9"
      },
      "execution_count": 54,
      "outputs": [
        {
          "output_type": "error",
          "ename": "DatabaseError",
          "evalue": "database disk image is malformed",
          "traceback": [
            "\u001b[0;31m---------------------------------------------------------------------------\u001b[0m",
            "\u001b[0;31mDatabaseError\u001b[0m                             Traceback (most recent call last)",
            "\u001b[0;32m<ipython-input-54-59f9f68cdfaa>\u001b[0m in \u001b[0;36m<cell line: 2>\u001b[0;34m()\u001b[0m\n\u001b[1;32m      1\u001b[0m \u001b[0;31m# printing all the tables present in database.sqlite\u001b[0m\u001b[0;34m\u001b[0m\u001b[0;34m\u001b[0m\u001b[0m\n\u001b[0;32m----> 2\u001b[0;31m \u001b[0;32mfor\u001b[0m \u001b[0mrow\u001b[0m \u001b[0;32min\u001b[0m \u001b[0mc\u001b[0m\u001b[0;34m.\u001b[0m\u001b[0mexecute\u001b[0m\u001b[0;34m(\u001b[0m\u001b[0;34m\"SELECT name FROM sqlite_master WHERE type='table';\"\u001b[0m\u001b[0;34m)\u001b[0m\u001b[0;34m:\u001b[0m\u001b[0;34m\u001b[0m\u001b[0;34m\u001b[0m\u001b[0m\n\u001b[0m\u001b[1;32m      3\u001b[0m     \u001b[0mprint\u001b[0m\u001b[0;34m(\u001b[0m\u001b[0mlist\u001b[0m\u001b[0;34m(\u001b[0m\u001b[0mrow\u001b[0m\u001b[0;34m)\u001b[0m\u001b[0;34m)\u001b[0m\u001b[0;34m\u001b[0m\u001b[0;34m\u001b[0m\u001b[0m\n",
            "\u001b[0;31mDatabaseError\u001b[0m: database disk image is malformed"
          ]
        }
      ]
    },
    {
      "cell_type": "code",
      "source": [
        "tables = pd.read_sql(\"\"\"SELECT * FROM sqlite_master WHERE type='table';\"\"\", conn)\n",
        "tables"
      ],
      "metadata": {
        "id": "v8TE7b_jpzM1"
      },
      "execution_count": null,
      "outputs": []
    },
    {
      "cell_type": "code",
      "source": [
        "# Read data into DataFrames from all the available tables\n",
        "Country_df = pd.read_sql(\"Select * from Country\",conn)\n",
        "League_df = pd.read_sql(\"Select * from League\",conn)\n",
        "Match_df = pd.read_sql(\"Select * from Match\",conn)\n",
        "Player_df = pd.read_sql(\"Select * from Player\",conn)\n",
        "PlayerAttribute_df = pd.read_sql(\"Select * from Player_Attributes\",conn)\n",
        "Team_df = pd.read_sql(\"Select * from Team\",conn)\n",
        "TeamAttributes_df = pd.read_sql(\"Select * from Team_Attributes\",conn)"
      ],
      "metadata": {
        "id": "5tBeEuYcoxKY"
      },
      "execution_count": null,
      "outputs": []
    },
    {
      "cell_type": "markdown",
      "source": [
        "# **Exploratory Data Analysis / Data Visualisation**"
      ],
      "metadata": {
        "id": "xh9BMJbWhR8O"
      }
    },
    {
      "cell_type": "code",
      "execution_count": null,
      "metadata": {
        "id": "7gkfQ3ROfW8n"
      },
      "outputs": [],
      "source": []
    }
  ]
}